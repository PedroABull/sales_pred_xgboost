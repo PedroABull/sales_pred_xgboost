{
 "cells": [
  {
   "cell_type": "markdown",
   "metadata": {},
   "source": [
    "# Etapa 3 - Feature Engineering\n"
   ]
  },
  {
   "cell_type": "code",
   "execution_count": 1,
   "metadata": {},
   "outputs": [],
   "source": [
    "# Importando as bibliotecas\n",
    "import pandas as pd\n",
    "import seaborn as sns\n",
    "# Configurando o matplotlib\n",
    "%matplotlib inline                              \n",
    "import matplotlib.pyplot as plt\n",
    "from sklearn.preprocessing import OneHotEncoder\n",
    "import numpy as np"
   ]
  },
  {
   "cell_type": "code",
   "execution_count": 2,
   "metadata": {},
   "outputs": [],
   "source": [
    "# Carregando a base de dados\n",
    "df = pd.read_csv(r'../data/sales_db_02.csv')"
   ]
  },
  {
   "cell_type": "code",
   "execution_count": 3,
   "metadata": {},
   "outputs": [
    {
     "name": "stdout",
     "output_type": "stream",
     "text": [
      "<class 'pandas.core.frame.DataFrame'>\n",
      "RangeIndex: 98795 entries, 0 to 98794\n",
      "Data columns (total 5 columns):\n",
      " #   Column                 Non-Null Count  Dtype  \n",
      "---  ------                 --------------  -----  \n",
      " 0   sale_date              98795 non-null  object \n",
      " 1   product_category_name  98795 non-null  object \n",
      " 2   order_units            98795 non-null  int64  \n",
      " 3   unit_price             98795 non-null  float64\n",
      " 4   customer_state         98795 non-null  object \n",
      "dtypes: float64(1), int64(1), object(3)\n",
      "memory usage: 3.8+ MB\n"
     ]
    }
   ],
   "source": [
    "# Avaliando as informações do dataframe após a transformação\n",
    "df.info()"
   ]
  },
  {
   "cell_type": "code",
   "execution_count": 4,
   "metadata": {},
   "outputs": [
    {
     "data": {
      "text/html": [
       "<div>\n",
       "<style scoped>\n",
       "    .dataframe tbody tr th:only-of-type {\n",
       "        vertical-align: middle;\n",
       "    }\n",
       "\n",
       "    .dataframe tbody tr th {\n",
       "        vertical-align: top;\n",
       "    }\n",
       "\n",
       "    .dataframe thead th {\n",
       "        text-align: right;\n",
       "    }\n",
       "</style>\n",
       "<table border=\"1\" class=\"dataframe\">\n",
       "  <thead>\n",
       "    <tr style=\"text-align: right;\">\n",
       "      <th></th>\n",
       "      <th>sale_date</th>\n",
       "      <th>product_category_name</th>\n",
       "      <th>order_units</th>\n",
       "      <th>unit_price</th>\n",
       "      <th>customer_state</th>\n",
       "    </tr>\n",
       "  </thead>\n",
       "  <tbody>\n",
       "    <tr>\n",
       "      <th>0</th>\n",
       "      <td>2017-10-02</td>\n",
       "      <td>utilidades_domesticas</td>\n",
       "      <td>1</td>\n",
       "      <td>29.99</td>\n",
       "      <td>SP</td>\n",
       "    </tr>\n",
       "    <tr>\n",
       "      <th>1</th>\n",
       "      <td>2018-07-24</td>\n",
       "      <td>perfumaria</td>\n",
       "      <td>1</td>\n",
       "      <td>118.70</td>\n",
       "      <td>BA</td>\n",
       "    </tr>\n",
       "  </tbody>\n",
       "</table>\n",
       "</div>"
      ],
      "text/plain": [
       "    sale_date  product_category_name  order_units  unit_price customer_state\n",
       "0  2017-10-02  utilidades_domesticas            1       29.99             SP\n",
       "1  2018-07-24             perfumaria            1      118.70             BA"
      ]
     },
     "execution_count": 4,
     "metadata": {},
     "output_type": "execute_result"
    }
   ],
   "source": [
    "# Visualizando a base\n",
    "df.head(2)"
   ]
  },
  {
   "cell_type": "code",
   "execution_count": 5,
   "metadata": {},
   "outputs": [],
   "source": [
    "# Desconsiderando o horário das datas\n",
    "dates = []\n",
    "for date in df['sale_date'].values:\n",
    "    dates.append(date[:10])\n",
    "\n",
    "df['sale_date'] =  dates"
   ]
  },
  {
   "cell_type": "code",
   "execution_count": 6,
   "metadata": {},
   "outputs": [],
   "source": [
    "#  Transformando a coluna de data para datetime\n",
    "df['sale_date'] = pd.to_datetime(df['sale_date'])"
   ]
  },
  {
   "cell_type": "code",
   "execution_count": 7,
   "metadata": {},
   "outputs": [
    {
     "data": {
      "text/html": [
       "<div>\n",
       "<style scoped>\n",
       "    .dataframe tbody tr th:only-of-type {\n",
       "        vertical-align: middle;\n",
       "    }\n",
       "\n",
       "    .dataframe tbody tr th {\n",
       "        vertical-align: top;\n",
       "    }\n",
       "\n",
       "    .dataframe thead th {\n",
       "        text-align: right;\n",
       "    }\n",
       "</style>\n",
       "<table border=\"1\" class=\"dataframe\">\n",
       "  <thead>\n",
       "    <tr style=\"text-align: right;\">\n",
       "      <th></th>\n",
       "      <th>sale_date</th>\n",
       "      <th>product_category_name</th>\n",
       "      <th>order_units</th>\n",
       "      <th>mean_unit_price</th>\n",
       "      <th>customer_state</th>\n",
       "    </tr>\n",
       "  </thead>\n",
       "  <tbody>\n",
       "    <tr>\n",
       "      <th>0</th>\n",
       "      <td>2017-10-02</td>\n",
       "      <td>utilidades_domesticas</td>\n",
       "      <td>1</td>\n",
       "      <td>29.99</td>\n",
       "      <td>SP</td>\n",
       "    </tr>\n",
       "    <tr>\n",
       "      <th>1</th>\n",
       "      <td>2018-07-24</td>\n",
       "      <td>perfumaria</td>\n",
       "      <td>1</td>\n",
       "      <td>118.70</td>\n",
       "      <td>BA</td>\n",
       "    </tr>\n",
       "    <tr>\n",
       "      <th>2</th>\n",
       "      <td>2018-08-08</td>\n",
       "      <td>automotivo</td>\n",
       "      <td>1</td>\n",
       "      <td>159.90</td>\n",
       "      <td>GO</td>\n",
       "    </tr>\n",
       "    <tr>\n",
       "      <th>3</th>\n",
       "      <td>2017-11-18</td>\n",
       "      <td>pet_shop</td>\n",
       "      <td>1</td>\n",
       "      <td>45.00</td>\n",
       "      <td>RN</td>\n",
       "    </tr>\n",
       "    <tr>\n",
       "      <th>4</th>\n",
       "      <td>2018-02-13</td>\n",
       "      <td>papelaria</td>\n",
       "      <td>1</td>\n",
       "      <td>19.90</td>\n",
       "      <td>SP</td>\n",
       "    </tr>\n",
       "  </tbody>\n",
       "</table>\n",
       "</div>"
      ],
      "text/plain": [
       "   sale_date  product_category_name  order_units  mean_unit_price  \\\n",
       "0 2017-10-02  utilidades_domesticas            1            29.99   \n",
       "1 2018-07-24             perfumaria            1           118.70   \n",
       "2 2018-08-08             automotivo            1           159.90   \n",
       "3 2017-11-18               pet_shop            1            45.00   \n",
       "4 2018-02-13              papelaria            1            19.90   \n",
       "\n",
       "  customer_state  \n",
       "0             SP  \n",
       "1             BA  \n",
       "2             GO  \n",
       "3             RN  \n",
       "4             SP  "
      ]
     },
     "execution_count": 7,
     "metadata": {},
     "output_type": "execute_result"
    }
   ],
   "source": [
    "# Criando uma base de vendas por região\n",
    "# df = df.groupby(by=['sale_date', 'customer_state', 'product_category_name'], as_index = False).agg({'order_units' : 'sum', 'unit_price' : 'mean'})\n",
    "df = df.rename(columns={'unit_price':'mean_unit_price'})\n",
    "\n",
    "# Visualizando a base\n",
    "df.head(5)"
   ]
  },
  {
   "cell_type": "code",
   "execution_count": 8,
   "metadata": {},
   "outputs": [
    {
     "name": "stdout",
     "output_type": "stream",
     "text": [
      "Número de categorias: 73\n"
     ]
    }
   ],
   "source": [
    "# Avaliando o número de categorias\n",
    "print(r'Número de categorias: {}'.format(df['product_category_name'].nunique()))"
   ]
  },
  {
   "cell_type": "markdown",
   "metadata": {},
   "source": [
    "- Existem 73 categorias diferentes de produtos na base e não é adequado para carregar todas essas infromações para o modelo, já que aumentaria muito a dimensão da base de dados. Por isso, foram selecionadas as categorias que representam 80 % dos registros de venda para serem mantidas e as categorias restantes serão agrupadas em um único grupo."
   ]
  },
  {
   "cell_type": "code",
   "execution_count": 9,
   "metadata": {},
   "outputs": [
    {
     "data": {
      "text/plain": [
       "product_category_name\n",
       "cama_mesa_banho                                  10009\n",
       "beleza_saude                                      8830\n",
       "esporte_lazer                                     7666\n",
       "informatica_acessorios                            6724\n",
       "moveis_decoracao                                  6636\n",
       "                                                 ...  \n",
       "portateis_cozinha_e_preparadores_de_alimentos       13\n",
       "cds_dvds_musicais                                   12\n",
       "pc_gamer                                             7\n",
       "fashion_roupa_infanto_juvenil                        7\n",
       "seguros_e_servicos                                   2\n",
       "Name: count, Length: 73, dtype: int64"
      ]
     },
     "execution_count": 9,
     "metadata": {},
     "output_type": "execute_result"
    }
   ],
   "source": [
    "# Explorando a coluna de cateogorias de produtos\n",
    "df.product_category_name.value_counts()"
   ]
  },
  {
   "cell_type": "code",
   "execution_count": 10,
   "metadata": {},
   "outputs": [],
   "source": [
    "# Avaliando quantas categorias representam 80% das vendas\n",
    "categories = list(df.product_category_name.value_counts().index)\n",
    "j = 0     # Inicializando contadores\n",
    "cat_80_perc = []        # Lista para armazenar as categorias\n",
    "\n",
    "# Criando lista com as categorias que representam 80% dos registros de venda e quantos registros de venda cada uma tem\n",
    "for cat in categories:\n",
    "    if j <= 0.8:\n",
    "        j = j + (df.loc[df['product_category_name'] == cat, 'product_category_name'].count()/df.shape[0])\n",
    "        cat_80_perc.append([cat, df.loc[df['product_category_name'] == cat, 'product_category_name'].count()])\n",
    "        min_freq = df.loc[df['product_category_name'] == cat, 'product_category_name'].count()          # Armazenando a fequência da categoria com menos registros dentro das categorias que representam 80%\n",
    "    else:\n",
    "        pass"
   ]
  },
  {
   "cell_type": "code",
   "execution_count": 11,
   "metadata": {},
   "outputs": [
    {
     "data": {
      "text/plain": [
       "[['cama_mesa_banho', 10009],\n",
       " ['beleza_saude', 8830],\n",
       " ['esporte_lazer', 7666],\n",
       " ['informatica_acessorios', 6724],\n",
       " ['moveis_decoracao', 6636],\n",
       " ['utilidades_domesticas', 5878],\n",
       " ['relogios_presentes', 5670],\n",
       " ['telefonia', 4178],\n",
       " ['automotivo', 3902],\n",
       " ['brinquedos', 3896],\n",
       " ['cool_stuff', 3584],\n",
       " ['ferramentas_jardim', 3537],\n",
       " ['perfumaria', 3165],\n",
       " ['bebes', 2856],\n",
       " ['eletronicos', 2532]]"
      ]
     },
     "execution_count": 11,
     "metadata": {},
     "output_type": "execute_result"
    }
   ],
   "source": [
    "# Visualizando a lista de categorias\n",
    "cat_80_perc"
   ]
  },
  {
   "cell_type": "markdown",
   "metadata": {},
   "source": [
    "- Para inserir informação de unidade federativa no modelo(estado brasileiro), é necessário transformar a coluna em formato numérico. Para isso, será aplicada a técnica de codificação frequencial na coluna de estado, que consiste em substituir a sigla do estado pela frequência relacionada à variável target. Essa abordagem é relevante para capturar a correlação entre a feature e a variável target."
   ]
  },
  {
   "cell_type": "code",
   "execution_count": 12,
   "metadata": {},
   "outputs": [],
   "source": [
    "# Aplicando a Codificaçõa Frequencial\n",
    "# Definindo função para codificação frequencial de coluna\n",
    "def cod_freq(uf):\n",
    "    return df_freq.loc[df_freq['customer_state'] == uf, 'order_units'].max()\n",
    "\n",
    "# Calculando a frequência\n",
    "df_freq = (df[['customer_state', 'order_units']].groupby('customer_state').sum()/df['order_units'].sum()).reset_index()\n",
    "\n",
    "# Criando uma coluna com a frequência\n",
    "df['state_freq'] = df['customer_state'].apply(cod_freq)\n",
    "\n",
    "# Excluindo a coluna original de estado\n",
    "df = df.drop('customer_state', axis = 1)"
   ]
  },
  {
   "cell_type": "code",
   "execution_count": 13,
   "metadata": {},
   "outputs": [],
   "source": [
    "# Usando o OneHotEncoder nas colunas de categorias\n",
    "ohe = OneHotEncoder(handle_unknown='ignore', min_frequency=min_freq)\n",
    "ohe = ohe.fit(df[['product_category_name']])"
   ]
  },
  {
   "cell_type": "code",
   "execution_count": 14,
   "metadata": {},
   "outputs": [
    {
     "data": {
      "text/html": [
       "<div>\n",
       "<style scoped>\n",
       "    .dataframe tbody tr th:only-of-type {\n",
       "        vertical-align: middle;\n",
       "    }\n",
       "\n",
       "    .dataframe tbody tr th {\n",
       "        vertical-align: top;\n",
       "    }\n",
       "\n",
       "    .dataframe thead th {\n",
       "        text-align: right;\n",
       "    }\n",
       "</style>\n",
       "<table border=\"1\" class=\"dataframe\">\n",
       "  <thead>\n",
       "    <tr style=\"text-align: right;\">\n",
       "      <th></th>\n",
       "      <th>product_category_name_automotivo</th>\n",
       "      <th>product_category_name_bebes</th>\n",
       "      <th>product_category_name_beleza_saude</th>\n",
       "      <th>product_category_name_brinquedos</th>\n",
       "      <th>product_category_name_cama_mesa_banho</th>\n",
       "      <th>product_category_name_cool_stuff</th>\n",
       "      <th>product_category_name_eletronicos</th>\n",
       "      <th>product_category_name_esporte_lazer</th>\n",
       "      <th>product_category_name_ferramentas_jardim</th>\n",
       "      <th>product_category_name_informatica_acessorios</th>\n",
       "      <th>product_category_name_moveis_decoracao</th>\n",
       "      <th>product_category_name_perfumaria</th>\n",
       "      <th>product_category_name_relogios_presentes</th>\n",
       "      <th>product_category_name_telefonia</th>\n",
       "      <th>product_category_name_utilidades_domesticas</th>\n",
       "      <th>product_category_name_infrequent_sklearn</th>\n",
       "    </tr>\n",
       "  </thead>\n",
       "  <tbody>\n",
       "    <tr>\n",
       "      <th>0</th>\n",
       "      <td>0.0</td>\n",
       "      <td>0.0</td>\n",
       "      <td>0.0</td>\n",
       "      <td>0.0</td>\n",
       "      <td>0.0</td>\n",
       "      <td>0.0</td>\n",
       "      <td>0.0</td>\n",
       "      <td>0.0</td>\n",
       "      <td>0.0</td>\n",
       "      <td>0.0</td>\n",
       "      <td>0.0</td>\n",
       "      <td>0.0</td>\n",
       "      <td>0.0</td>\n",
       "      <td>0.0</td>\n",
       "      <td>1.0</td>\n",
       "      <td>0.0</td>\n",
       "    </tr>\n",
       "    <tr>\n",
       "      <th>1</th>\n",
       "      <td>0.0</td>\n",
       "      <td>0.0</td>\n",
       "      <td>0.0</td>\n",
       "      <td>0.0</td>\n",
       "      <td>0.0</td>\n",
       "      <td>0.0</td>\n",
       "      <td>0.0</td>\n",
       "      <td>0.0</td>\n",
       "      <td>0.0</td>\n",
       "      <td>0.0</td>\n",
       "      <td>0.0</td>\n",
       "      <td>1.0</td>\n",
       "      <td>0.0</td>\n",
       "      <td>0.0</td>\n",
       "      <td>0.0</td>\n",
       "      <td>0.0</td>\n",
       "    </tr>\n",
       "  </tbody>\n",
       "</table>\n",
       "</div>"
      ],
      "text/plain": [
       "   product_category_name_automotivo  product_category_name_bebes  \\\n",
       "0                               0.0                          0.0   \n",
       "1                               0.0                          0.0   \n",
       "\n",
       "   product_category_name_beleza_saude  product_category_name_brinquedos  \\\n",
       "0                                 0.0                               0.0   \n",
       "1                                 0.0                               0.0   \n",
       "\n",
       "   product_category_name_cama_mesa_banho  product_category_name_cool_stuff  \\\n",
       "0                                    0.0                               0.0   \n",
       "1                                    0.0                               0.0   \n",
       "\n",
       "   product_category_name_eletronicos  product_category_name_esporte_lazer  \\\n",
       "0                                0.0                                  0.0   \n",
       "1                                0.0                                  0.0   \n",
       "\n",
       "   product_category_name_ferramentas_jardim  \\\n",
       "0                                       0.0   \n",
       "1                                       0.0   \n",
       "\n",
       "   product_category_name_informatica_acessorios  \\\n",
       "0                                           0.0   \n",
       "1                                           0.0   \n",
       "\n",
       "   product_category_name_moveis_decoracao  product_category_name_perfumaria  \\\n",
       "0                                     0.0                               0.0   \n",
       "1                                     0.0                               1.0   \n",
       "\n",
       "   product_category_name_relogios_presentes  product_category_name_telefonia  \\\n",
       "0                                       0.0                              0.0   \n",
       "1                                       0.0                              0.0   \n",
       "\n",
       "   product_category_name_utilidades_domesticas  \\\n",
       "0                                          1.0   \n",
       "1                                          0.0   \n",
       "\n",
       "   product_category_name_infrequent_sklearn  \n",
       "0                                       0.0  \n",
       "1                                       0.0  "
      ]
     },
     "execution_count": 14,
     "metadata": {},
     "output_type": "execute_result"
    }
   ],
   "source": [
    "# Transformando o resultado em um dataframe\n",
    "ohe_df = pd.DataFrame(ohe.transform(df[['product_category_name']]).toarray(), columns=ohe.get_feature_names_out())\n",
    "ohe_df.head(2)"
   ]
  },
  {
   "cell_type": "code",
   "execution_count": 15,
   "metadata": {},
   "outputs": [],
   "source": [
    "# Unindo os dataframes e excluindo a coluna original de categorias\n",
    "df = pd.concat([df, ohe_df], axis=1)\n",
    "\n",
    "# Excluindo a coluna original de categoria\n",
    "df = df.drop('product_category_name', axis = 1)"
   ]
  },
  {
   "cell_type": "code",
   "execution_count": 16,
   "metadata": {},
   "outputs": [
    {
     "name": "stdout",
     "output_type": "stream",
     "text": [
      "<class 'pandas.core.frame.DataFrame'>\n",
      "RangeIndex: 98795 entries, 0 to 98794\n",
      "Data columns (total 20 columns):\n",
      " #   Column                                        Non-Null Count  Dtype         \n",
      "---  ------                                        --------------  -----         \n",
      " 0   sale_date                                     98795 non-null  datetime64[ns]\n",
      " 1   order_units                                   98795 non-null  int64         \n",
      " 2   mean_unit_price                               98795 non-null  float64       \n",
      " 3   state_freq                                    98795 non-null  float64       \n",
      " 4   product_category_name_automotivo              98795 non-null  float64       \n",
      " 5   product_category_name_bebes                   98795 non-null  float64       \n",
      " 6   product_category_name_beleza_saude            98795 non-null  float64       \n",
      " 7   product_category_name_brinquedos              98795 non-null  float64       \n",
      " 8   product_category_name_cama_mesa_banho         98795 non-null  float64       \n",
      " 9   product_category_name_cool_stuff              98795 non-null  float64       \n",
      " 10  product_category_name_eletronicos             98795 non-null  float64       \n",
      " 11  product_category_name_esporte_lazer           98795 non-null  float64       \n",
      " 12  product_category_name_ferramentas_jardim      98795 non-null  float64       \n",
      " 13  product_category_name_informatica_acessorios  98795 non-null  float64       \n",
      " 14  product_category_name_moveis_decoracao        98795 non-null  float64       \n",
      " 15  product_category_name_perfumaria              98795 non-null  float64       \n",
      " 16  product_category_name_relogios_presentes      98795 non-null  float64       \n",
      " 17  product_category_name_telefonia               98795 non-null  float64       \n",
      " 18  product_category_name_utilidades_domesticas   98795 non-null  float64       \n",
      " 19  product_category_name_infrequent_sklearn      98795 non-null  float64       \n",
      "dtypes: datetime64[ns](1), float64(18), int64(1)\n",
      "memory usage: 15.1 MB\n"
     ]
    }
   ],
   "source": [
    "# Visualizando as informações da base de dados\n",
    "df.info()"
   ]
  },
  {
   "cell_type": "code",
   "execution_count": 17,
   "metadata": {},
   "outputs": [],
   "source": [
    "# Criando features\n",
    "df['month'] = df['sale_date'].dt.month\n",
    "df['day_of_week'] = df['sale_date'].dt.dayofweek"
   ]
  },
  {
   "cell_type": "code",
   "execution_count": 18,
   "metadata": {},
   "outputs": [
    {
     "data": {
      "text/html": [
       "<div>\n",
       "<style scoped>\n",
       "    .dataframe tbody tr th:only-of-type {\n",
       "        vertical-align: middle;\n",
       "    }\n",
       "\n",
       "    .dataframe tbody tr th {\n",
       "        vertical-align: top;\n",
       "    }\n",
       "\n",
       "    .dataframe thead th {\n",
       "        text-align: right;\n",
       "    }\n",
       "</style>\n",
       "<table border=\"1\" class=\"dataframe\">\n",
       "  <thead>\n",
       "    <tr style=\"text-align: right;\">\n",
       "      <th></th>\n",
       "      <th>sale_date</th>\n",
       "      <th>order_units</th>\n",
       "      <th>mean_unit_price</th>\n",
       "      <th>state_freq</th>\n",
       "      <th>product_category_name_automotivo</th>\n",
       "      <th>product_category_name_bebes</th>\n",
       "      <th>product_category_name_beleza_saude</th>\n",
       "      <th>product_category_name_brinquedos</th>\n",
       "      <th>product_category_name_cama_mesa_banho</th>\n",
       "      <th>product_category_name_cool_stuff</th>\n",
       "      <th>...</th>\n",
       "      <th>product_category_name_ferramentas_jardim</th>\n",
       "      <th>product_category_name_informatica_acessorios</th>\n",
       "      <th>product_category_name_moveis_decoracao</th>\n",
       "      <th>product_category_name_perfumaria</th>\n",
       "      <th>product_category_name_relogios_presentes</th>\n",
       "      <th>product_category_name_telefonia</th>\n",
       "      <th>product_category_name_utilidades_domesticas</th>\n",
       "      <th>product_category_name_infrequent_sklearn</th>\n",
       "      <th>month</th>\n",
       "      <th>day_of_week</th>\n",
       "    </tr>\n",
       "  </thead>\n",
       "  <tbody>\n",
       "    <tr>\n",
       "      <th>0</th>\n",
       "      <td>2017-10-02</td>\n",
       "      <td>1</td>\n",
       "      <td>29.99</td>\n",
       "      <td>0.421719</td>\n",
       "      <td>0.0</td>\n",
       "      <td>0.0</td>\n",
       "      <td>0.0</td>\n",
       "      <td>0.0</td>\n",
       "      <td>0.0</td>\n",
       "      <td>0.0</td>\n",
       "      <td>...</td>\n",
       "      <td>0.0</td>\n",
       "      <td>0.0</td>\n",
       "      <td>0.0</td>\n",
       "      <td>0.0</td>\n",
       "      <td>0.0</td>\n",
       "      <td>0.0</td>\n",
       "      <td>1.0</td>\n",
       "      <td>0.0</td>\n",
       "      <td>10</td>\n",
       "      <td>0</td>\n",
       "    </tr>\n",
       "    <tr>\n",
       "      <th>1</th>\n",
       "      <td>2018-07-24</td>\n",
       "      <td>1</td>\n",
       "      <td>118.70</td>\n",
       "      <td>0.033361</td>\n",
       "      <td>0.0</td>\n",
       "      <td>0.0</td>\n",
       "      <td>0.0</td>\n",
       "      <td>0.0</td>\n",
       "      <td>0.0</td>\n",
       "      <td>0.0</td>\n",
       "      <td>...</td>\n",
       "      <td>0.0</td>\n",
       "      <td>0.0</td>\n",
       "      <td>0.0</td>\n",
       "      <td>1.0</td>\n",
       "      <td>0.0</td>\n",
       "      <td>0.0</td>\n",
       "      <td>0.0</td>\n",
       "      <td>0.0</td>\n",
       "      <td>7</td>\n",
       "      <td>1</td>\n",
       "    </tr>\n",
       "    <tr>\n",
       "      <th>2</th>\n",
       "      <td>2018-08-08</td>\n",
       "      <td>1</td>\n",
       "      <td>159.90</td>\n",
       "      <td>0.020477</td>\n",
       "      <td>1.0</td>\n",
       "      <td>0.0</td>\n",
       "      <td>0.0</td>\n",
       "      <td>0.0</td>\n",
       "      <td>0.0</td>\n",
       "      <td>0.0</td>\n",
       "      <td>...</td>\n",
       "      <td>0.0</td>\n",
       "      <td>0.0</td>\n",
       "      <td>0.0</td>\n",
       "      <td>0.0</td>\n",
       "      <td>0.0</td>\n",
       "      <td>0.0</td>\n",
       "      <td>0.0</td>\n",
       "      <td>0.0</td>\n",
       "      <td>8</td>\n",
       "      <td>2</td>\n",
       "    </tr>\n",
       "  </tbody>\n",
       "</table>\n",
       "<p>3 rows × 22 columns</p>\n",
       "</div>"
      ],
      "text/plain": [
       "   sale_date  order_units  mean_unit_price  state_freq  \\\n",
       "0 2017-10-02            1            29.99    0.421719   \n",
       "1 2018-07-24            1           118.70    0.033361   \n",
       "2 2018-08-08            1           159.90    0.020477   \n",
       "\n",
       "   product_category_name_automotivo  product_category_name_bebes  \\\n",
       "0                               0.0                          0.0   \n",
       "1                               0.0                          0.0   \n",
       "2                               1.0                          0.0   \n",
       "\n",
       "   product_category_name_beleza_saude  product_category_name_brinquedos  \\\n",
       "0                                 0.0                               0.0   \n",
       "1                                 0.0                               0.0   \n",
       "2                                 0.0                               0.0   \n",
       "\n",
       "   product_category_name_cama_mesa_banho  product_category_name_cool_stuff  \\\n",
       "0                                    0.0                               0.0   \n",
       "1                                    0.0                               0.0   \n",
       "2                                    0.0                               0.0   \n",
       "\n",
       "   ...  product_category_name_ferramentas_jardim  \\\n",
       "0  ...                                       0.0   \n",
       "1  ...                                       0.0   \n",
       "2  ...                                       0.0   \n",
       "\n",
       "   product_category_name_informatica_acessorios  \\\n",
       "0                                           0.0   \n",
       "1                                           0.0   \n",
       "2                                           0.0   \n",
       "\n",
       "   product_category_name_moveis_decoracao  product_category_name_perfumaria  \\\n",
       "0                                     0.0                               0.0   \n",
       "1                                     0.0                               1.0   \n",
       "2                                     0.0                               0.0   \n",
       "\n",
       "   product_category_name_relogios_presentes  product_category_name_telefonia  \\\n",
       "0                                       0.0                              0.0   \n",
       "1                                       0.0                              0.0   \n",
       "2                                       0.0                              0.0   \n",
       "\n",
       "   product_category_name_utilidades_domesticas  \\\n",
       "0                                          1.0   \n",
       "1                                          0.0   \n",
       "2                                          0.0   \n",
       "\n",
       "   product_category_name_infrequent_sklearn  month  day_of_week  \n",
       "0                                       0.0     10            0  \n",
       "1                                       0.0      7            1  \n",
       "2                                       0.0      8            2  \n",
       "\n",
       "[3 rows x 22 columns]"
      ]
     },
     "execution_count": 18,
     "metadata": {},
     "output_type": "execute_result"
    }
   ],
   "source": [
    "# Visualizando o dataframe\n",
    "df.head(3)"
   ]
  },
  {
   "cell_type": "code",
   "execution_count": 19,
   "metadata": {},
   "outputs": [],
   "source": [
    "# Criando Features de data\n",
    "df['lag_1'] = df['order_units'].shift(1)\n",
    "df['lag_7'] = df['order_units'].shift(7)  # Venda na mesma semana anterior\n",
    "df['rolling_mean_7'] = df['order_units'].shift(1).rolling(7).mean()\n",
    "\n",
    "# Substituindo os dados nulos oriundos da transformação\n",
    "df['lag_1'] = df['lag_1'].fillna(method='bfill')  # Usa o próximo valor não nulo\n",
    "df['lag_7'] = df['lag_7'].fillna(method='ffill')  # Usa o último valor conhecido"
   ]
  },
  {
   "cell_type": "code",
   "execution_count": 20,
   "metadata": {},
   "outputs": [
    {
     "data": {
      "text/plain": [
       "\"cols = ['sale_date', 'month', 'day_of_week','lag_1', 'lag_7', 'rolling_mean_7',\\n         'mean_unit_price', 'state_freq',\\n        'product_category_name_automotivo', 'product_category_name_bebes',\\n        'product_category_name_beleza_saude',\\n        'product_category_name_brinquedos',\\n        'product_category_name_cama_mesa_banho',\\n        'product_category_name_cool_stuff', 'product_category_name_eletronicos',\\n        'product_category_name_esporte_lazer',\\n        'product_category_name_fashion_bolsas_e_acessorios',\\n        'product_category_name_ferramentas_jardim',\\n        'product_category_name_informatica_acessorios',\\n        'product_category_name_moveis_decoracao',\\n        'product_category_name_moveis_escritorio',\\n        'product_category_name_papelaria', 'product_category_name_perfumaria',\\n        'product_category_name_pet_shop',\\n        'product_category_name_relogios_presentes',\\n        'product_category_name_telefonia',\\n        'product_category_name_utilidades_domesticas',\\n        'product_category_name_infrequent_sklearn', 'month', 'day_of_week',\\n        'lag_1', 'lag_7', 'rolling_mean_7',\\n        'order_units']\\n\\ndf = df[cols]\""
      ]
     },
     "execution_count": 20,
     "metadata": {},
     "output_type": "execute_result"
    }
   ],
   "source": [
    "# Ajustando a ordem das colunas\n",
    "'''cols = ['sale_date', 'month', 'day_of_week','lag_1', 'lag_7', 'rolling_mean_7',\n",
    "         'mean_unit_price', 'state_freq',\n",
    "        'product_category_name_automotivo', 'product_category_name_bebes',\n",
    "        'product_category_name_beleza_saude',\n",
    "        'product_category_name_brinquedos',\n",
    "        'product_category_name_cama_mesa_banho',\n",
    "        'product_category_name_cool_stuff', 'product_category_name_eletronicos',\n",
    "        'product_category_name_esporte_lazer',\n",
    "        'product_category_name_fashion_bolsas_e_acessorios',\n",
    "        'product_category_name_ferramentas_jardim',\n",
    "        'product_category_name_informatica_acessorios',\n",
    "        'product_category_name_moveis_decoracao',\n",
    "        'product_category_name_moveis_escritorio',\n",
    "        'product_category_name_papelaria', 'product_category_name_perfumaria',\n",
    "        'product_category_name_pet_shop',\n",
    "        'product_category_name_relogios_presentes',\n",
    "        'product_category_name_telefonia',\n",
    "        'product_category_name_utilidades_domesticas',\n",
    "        'product_category_name_infrequent_sklearn', 'month', 'day_of_week',\n",
    "        'lag_1', 'lag_7', 'rolling_mean_7',\n",
    "        'order_units']\n",
    "\n",
    "df = df[cols]'''"
   ]
  },
  {
   "cell_type": "code",
   "execution_count": 21,
   "metadata": {},
   "outputs": [
    {
     "name": "stdout",
     "output_type": "stream",
     "text": [
      "<class 'pandas.core.frame.DataFrame'>\n",
      "RangeIndex: 98795 entries, 0 to 98794\n",
      "Data columns (total 25 columns):\n",
      " #   Column                                        Non-Null Count  Dtype         \n",
      "---  ------                                        --------------  -----         \n",
      " 0   sale_date                                     98795 non-null  datetime64[ns]\n",
      " 1   order_units                                   98795 non-null  int64         \n",
      " 2   mean_unit_price                               98795 non-null  float64       \n",
      " 3   state_freq                                    98795 non-null  float64       \n",
      " 4   product_category_name_automotivo              98795 non-null  float64       \n",
      " 5   product_category_name_bebes                   98795 non-null  float64       \n",
      " 6   product_category_name_beleza_saude            98795 non-null  float64       \n",
      " 7   product_category_name_brinquedos              98795 non-null  float64       \n",
      " 8   product_category_name_cama_mesa_banho         98795 non-null  float64       \n",
      " 9   product_category_name_cool_stuff              98795 non-null  float64       \n",
      " 10  product_category_name_eletronicos             98795 non-null  float64       \n",
      " 11  product_category_name_esporte_lazer           98795 non-null  float64       \n",
      " 12  product_category_name_ferramentas_jardim      98795 non-null  float64       \n",
      " 13  product_category_name_informatica_acessorios  98795 non-null  float64       \n",
      " 14  product_category_name_moveis_decoracao        98795 non-null  float64       \n",
      " 15  product_category_name_perfumaria              98795 non-null  float64       \n",
      " 16  product_category_name_relogios_presentes      98795 non-null  float64       \n",
      " 17  product_category_name_telefonia               98795 non-null  float64       \n",
      " 18  product_category_name_utilidades_domesticas   98795 non-null  float64       \n",
      " 19  product_category_name_infrequent_sklearn      98795 non-null  float64       \n",
      " 20  month                                         98795 non-null  int32         \n",
      " 21  day_of_week                                   98795 non-null  int32         \n",
      " 22  lag_1                                         98795 non-null  float64       \n",
      " 23  lag_7                                         98788 non-null  float64       \n",
      " 24  rolling_mean_7                                98788 non-null  float64       \n",
      "dtypes: datetime64[ns](1), float64(21), int32(2), int64(1)\n",
      "memory usage: 18.1 MB\n"
     ]
    }
   ],
   "source": [
    "df.info()"
   ]
  },
  {
   "cell_type": "code",
   "execution_count": 22,
   "metadata": {},
   "outputs": [],
   "source": [
    "# Criando dados de produção\n",
    "df_valid = df.loc[df['sale_date'] >= '08/01/2018']\n",
    "\n",
    "# Ajustando o df\n",
    "df = df.loc[df['sale_date'] < '08/01/2018']"
   ]
  },
  {
   "cell_type": "code",
   "execution_count": 23,
   "metadata": {},
   "outputs": [],
   "source": [
    "# Salvando a base para a próxima etapa\n",
    "df.to_csv(r'../data/sales_db_03.csv', index = False)\n",
    "df_valid.to_csv(r'../data/unseen_data.csv', index = False)"
   ]
  }
 ],
 "metadata": {
  "kernelspec": {
   "display_name": "base",
   "language": "python",
   "name": "python3"
  },
  "language_info": {
   "codemirror_mode": {
    "name": "ipython",
    "version": 3
   },
   "file_extension": ".py",
   "mimetype": "text/x-python",
   "name": "python",
   "nbconvert_exporter": "python",
   "pygments_lexer": "ipython3",
   "version": "3.11.5"
  }
 },
 "nbformat": 4,
 "nbformat_minor": 2
}
